{
 "cells": [
  {
   "cell_type": "markdown",
   "source": [
    "# Foundations of Computer Vision | Spring 03 | Dr. Seyfipoor\n",
    "# CA1\n",
    "***\n",
    "## Amirreza Akbari | 810899045\n",
    "## 1403/02/02"
   ],
   "metadata": {
    "collapsed": false
   },
   "id": "c293489adf9317d"
  },
  {
   "cell_type": "code",
   "outputs": [],
   "source": [],
   "metadata": {
    "collapsed": false,
    "ExecuteTime": {
     "end_time": "2024-07-01T12:48:12.944168300Z",
     "start_time": "2024-07-01T12:48:12.937646300Z"
    }
   },
   "id": "97179cfe36553b0f",
   "execution_count": null
  }
 ],
 "metadata": {
  "kernelspec": {
   "display_name": "Python 3 (ipykernel)",
   "language": "python",
   "name": "python3"
  },
  "language_info": {
   "codemirror_mode": {
    "name": "ipython",
    "version": 3
   },
   "file_extension": ".py",
   "mimetype": "text/x-python",
   "name": "python",
   "nbconvert_exporter": "python",
   "pygments_lexer": "ipython3",
   "version": "3.11.7"
  }
 },
 "nbformat": 4,
 "nbformat_minor": 5
}
