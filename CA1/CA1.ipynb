{
 "cells": [
  {
   "cell_type": "markdown",
   "source": [
    "# Foundations of Computer Vision | Spring 03 | Dr. Seyfipoor\n",
    "# CA1\n",
    "***\n",
    "## Amirreza Akbari | 810899045\n",
    "## 1403/02/02"
   ],
   "metadata": {
    "collapsed": false
   },
   "id": "c293489adf9317d"
  },
  {
   "cell_type": "markdown",
   "source": [
    "# Install & Import Libraries"
   ],
   "metadata": {
    "collapsed": false
   },
   "id": "6f8310e519e61fb2"
  },
  {
   "cell_type": "code",
   "outputs": [],
   "source": [
    "import importlib.util\n",
    "\n",
    "required_libraries = [\"cv2\"]\n",
    "\n",
    "for lib in required_libraries:\n",
    "    if importlib.util.find_spec(lib) is None:\n",
    "        # Install the library\n",
    "        !pip install {lib}\n",
    "\n",
    "import cv2\n",
    "import os\n",
    "import numpy as np\n"
   ],
   "metadata": {
    "collapsed": false,
    "ExecuteTime": {
     "end_time": "2024-07-01T13:01:37.584208100Z",
     "start_time": "2024-07-01T13:01:37.572016200Z"
    }
   },
   "id": "33501e5ad49be436",
   "execution_count": 5
  },
  {
   "cell_type": "markdown",
   "source": [
    "# Task 1"
   ],
   "metadata": {
    "collapsed": false
   },
   "id": "6db5123028536ea7"
  },
  {
   "cell_type": "code",
   "outputs": [
    {
     "data": {
      "text/plain": "True"
     },
     "execution_count": 6,
     "metadata": {},
     "output_type": "execute_result"
    }
   ],
   "source": [
    "# Load the initial image\n",
    "initial_image_path = \"test1.png\"\n",
    "initial_image = cv2.imread(initial_image_path)\n",
    "\n",
    "# Create a directory to save output images\n",
    "output_folder = \"output_task1\"\n",
    "os.makedirs(output_folder, exist_ok=True)\n",
    "\n",
    "# Subtask 1: Save the loaded image in binary, grayscale, and RGB formats\n",
    "grayscale_image = cv2.cvtColor(initial_image, cv2.COLOR_BGR2GRAY)\n",
    "binary_image = cv2.threshold(grayscale_image, 128, 255, cv2.THRESH_BINARY)[1]\n",
    "rgb_image = cv2.cvtColor(initial_image, cv2.COLOR_BGR2RGB)\n",
    "\n",
    "cv2.imwrite(os.path.join(output_folder, \"1_binary_image.png\"), binary_image)\n",
    "cv2.imwrite(os.path.join(output_folder, \"1_grayscale_image.png\"), grayscale_image)\n",
    "cv2.imwrite(os.path.join(output_folder, \"1_rgb_image.png\"), rgb_image)\n",
    "\n",
    "# Subtask 2: Increase and decrease contrast of grayscale and RGB images\n",
    "# Define contrast adjustment function\n",
    "def adjust_contrast(image, factor):\n",
    "    median = np.median(image)\n",
    "    adjusted_image = np.clip((image - median) * factor + median, 0, 255).astype(np.uint8)\n",
    "    return adjusted_image\n",
    "\n",
    "contrast_increase_factor = 1.5\n",
    "contrast_decrease_factor = 0.5\n",
    "\n",
    "grayscale_contrast_increase = adjust_contrast(grayscale_image, contrast_increase_factor)\n",
    "grayscale_contrast_decrease = adjust_contrast(grayscale_image, contrast_decrease_factor)\n",
    "rgb_contrast_increase = adjust_contrast(initial_image, contrast_increase_factor)\n",
    "rgb_contrast_decrease = adjust_contrast(initial_image, contrast_decrease_factor)\n",
    "\n",
    "cv2.imwrite(os.path.join(output_folder, \"2_grayscale_contrast_increase.png\"), grayscale_contrast_increase)\n",
    "cv2.imwrite(os.path.join(output_folder, \"2_grayscale_contrast_decrease.png\"), grayscale_contrast_decrease)\n",
    "cv2.imwrite(os.path.join(output_folder, \"2_rgb_contrast_increase.png\"), rgb_contrast_increase)\n",
    "cv2.imwrite(os.path.join(output_folder, \"2_rgb_contrast_decrease.png\"), rgb_contrast_decrease)\n",
    "\n",
    "# Subtask 3: Increase all gray values of the image by 20 units\n",
    "increased_gray_image = np.clip(grayscale_image.astype(np.uint16) + 20, 0, 255).astype(np.uint8)\n",
    "cv2.imwrite(os.path.join(output_folder, \"3_increased_gray_image.png\"), increased_gray_image)\n",
    "\n",
    "# Subtask 4: Apply salt and pepper noise to the initial image\n",
    "# Define function to add salt and pepper noise\n",
    "def add_salt_pepper_noise(image, salt_prob, pepper_prob):\n",
    "    noisy_image = np.copy(image)\n",
    "    salt_pixels = np.random.rand(*image.shape[:2]) < salt_prob\n",
    "    pepper_pixels = np.random.rand(*image.shape[:2]) < pepper_prob\n",
    "    noisy_image[salt_pixels] = 255\n",
    "    noisy_image[pepper_pixels] = 0\n",
    "    return noisy_image\n",
    "\n",
    "salt_and_pepper_image = add_salt_pepper_noise(initial_image, salt_prob=0.05, pepper_prob=0.05)\n",
    "cv2.imwrite(os.path.join(output_folder, \"4_salt_and_pepper_image.png\"), salt_and_pepper_image)\n",
    "\n",
    "# Subtask 5: Decrease the noise of the image by applying median filter\n",
    "median_filtered_image = cv2.medianBlur(salt_and_pepper_image, 3)\n",
    "cv2.imwrite(os.path.join(output_folder, \"5_median_filtered_image.png\"), median_filtered_image)\n",
    "\n",
    "# Subtask 6: Detect and extract edges using Sobel and Canny operators\n",
    "sobel_x = cv2.Sobel(grayscale_image, cv2.CV_64F, 1, 0, ksize=3)\n",
    "sobel_y = cv2.Sobel(grayscale_image, cv2.CV_64F, 0, 1, ksize=3)\n",
    "sobel_edges = cv2.magnitude(sobel_x, sobel_y)\n",
    "\n",
    "canny_edges = cv2.Canny(grayscale_image, 50, 200)\n",
    "\n",
    "cv2.imwrite(os.path.join(output_folder, \"6_sobel_edges.png\"), sobel_edges)\n",
    "cv2.imwrite(os.path.join(output_folder, \"6_canny_edges.png\"), canny_edges)\n",
    "\n",
    "# Subtask 7: Sharpen the initial image\n",
    "sharpened_image = cv2.detailEnhance(initial_image)\n",
    "cv2.imwrite(os.path.join(output_folder, \"7_sharpened_image.png\"), sharpened_image)\n",
    "\n",
    "# Subtask 8: Blur the initial image using average and Gaussian operators\n",
    "average_blurred_image = cv2.blur(initial_image, (5, 5))\n",
    "gaussian_blurred_image = cv2.GaussianBlur(initial_image, (5, 5), 0)\n",
    "\n",
    "cv2.imwrite(os.path.join(output_folder, \"8_average_blurred_image.png\"), average_blurred_image)\n",
    "cv2.imwrite(os.path.join(output_folder, \"8_gaussian_blurred_image.png\"), gaussian_blurred_image)\n"
   ],
   "metadata": {
    "collapsed": false,
    "ExecuteTime": {
     "end_time": "2024-07-01T13:01:39.167688500Z",
     "start_time": "2024-07-01T13:01:37.592194400Z"
    }
   },
   "id": "612d5ad8d856bcf0",
   "execution_count": 6
  },
  {
   "cell_type": "code",
   "outputs": [],
   "source": [],
   "metadata": {
    "collapsed": false,
    "ExecuteTime": {
     "end_time": "2024-07-01T13:01:39.168687200Z",
     "start_time": "2024-07-01T13:01:39.161687700Z"
    }
   },
   "id": "97179cfe36553b0f",
   "execution_count": 6
  }
 ],
 "metadata": {
  "kernelspec": {
   "display_name": "Python 3 (ipykernel)",
   "language": "python",
   "name": "python3"
  },
  "language_info": {
   "codemirror_mode": {
    "name": "ipython",
    "version": 3
   },
   "file_extension": ".py",
   "mimetype": "text/x-python",
   "name": "python",
   "nbconvert_exporter": "python",
   "pygments_lexer": "ipython3",
   "version": "3.11.7"
  }
 },
 "nbformat": 4,
 "nbformat_minor": 5
}
